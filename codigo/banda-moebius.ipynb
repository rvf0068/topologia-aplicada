{
 "cells": [
  {
   "cell_type": "markdown",
   "metadata": {},
   "source": [
    "[https://ripser.scikit-tda.org/en/latest/notebooks/Moebius%20Strip%20And%20The%20Field%20of%20Coefficients.html](https://ripser.scikit-tda.org/en/latest/notebooks/Moebius%20Strip%20And%20The%20Field%20of%20Coefficients.html)\n",
    "\n"
   ]
  },
  {
   "cell_type": "code",
   "execution_count": 1,
   "metadata": {},
   "outputs": [],
   "source": [
    "import numpy as np\n",
    "import matplotlib.pyplot as plt\n",
    "from mpl_toolkits.mplot3d import Axes3D\n",
    "from ripser import ripser\n",
    "from persim import plot_diagrams"
   ]
  },
  {
   "cell_type": "code",
   "execution_count": 1,
   "metadata": {},
   "outputs": [],
   "source": [
    "## Step 1: Setup curve\n",
    "N = 100 # Number of points to sample\n",
    "R = 4   # Big radius of torus\n",
    "r = 1   # Little radius of torus\n",
    "X = np.zeros((N, 3))\n",
    "t = np.linspace(0, 2*np.pi, N)\n",
    "X[:, 0] = (R + r*np.cos(2*t))*np.cos(t)\n",
    "X[:, 1] = (R + r*np.cos(2*t))*np.sin(t)\n",
    "X[:, 2] = r*np.sin(2*t)\n",
    "\n",
    "## Step 2: Compute persistent homology\n",
    "dgms2 = ripser(X, coeff=2)['dgms']\n",
    "dgms3 = ripser(X, coeff=3)['dgms']\n",
    "\n",
    "fig = plt.figure(figsize=(9, 3))\n",
    "ax = fig.add_subplot(131, projection='3d')\n",
    "ax.scatter(X[:, 0], X[:, 1], X[:, 2])\n",
    "#ax.set_aspect('equal')\n",
    "plt.title(\"Generated Loop\")\n",
    "plt.subplot(132)\n",
    "plot_diagrams(dgms2)\n",
    "plt.title(\"$\\mathbb{Z} / 2$\")\n",
    "plt.subplot(133)\n",
    "plot_diagrams(dgms3)\n",
    "plt.title(\"$\\mathbb{Z} / 3$\")\n",
    "\n",
    "plt.tight_layout()\n",
    "plt.show()"
   ]
  },
  {
   "cell_type": "code",
   "execution_count": 1,
   "metadata": {},
   "outputs": [],
   "source": [
    "X[:, 0] = (R + r*np.cos(t))*np.cos(2*t)\n",
    "X[:, 1] = (R + r*np.cos(t))*np.sin(2*t)\n",
    "X[:, 2] = r*np.sin(t)\n",
    "\n",
    "## Step 2: Compute persistent homology\n",
    "dgms2 = ripser(X, coeff=2)['dgms']\n",
    "dgms3 = ripser(X, coeff=3)['dgms']\n",
    "\n",
    "fig = plt.figure(figsize=(9, 3))\n",
    "ax = fig.add_subplot(131, projection='3d')\n",
    "ax.scatter(X[:, 0], X[:, 1], X[:, 2])\n",
    "#ax.set_aspect('equal')\n",
    "plt.title(\"Generated Loop\")\n",
    "plt.subplot(132)\n",
    "plot_diagrams(dgms2)\n",
    "plt.title(\"$\\mathbb{Z} / 2$\")\n",
    "plt.subplot(133)\n",
    "plot_diagrams(dgms3)\n",
    "plt.title(\"$\\mathbb{Z} / 3$\")\n",
    "\n",
    "plt.show()"
   ]
  }
 ],
 "metadata": {
  "kernelspec": {
   "display_name": "Python 3",
   "language": "python",
   "name": "python3"
  },
  "language_info": {
   "codemirror_mode": {
    "name": "ipython",
    "version": 3
   },
   "file_extension": ".py",
   "mimetype": "text/x-python",
   "name": "python",
   "nbconvert_exporter": "python",
   "pygments_lexer": "ipython3",
   "version": "3.9.2"
  },
  "org": null
 },
 "nbformat": 4,
 "nbformat_minor": 1
}
