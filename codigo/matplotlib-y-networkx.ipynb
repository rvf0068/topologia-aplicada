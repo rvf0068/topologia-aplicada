{
 "cells": [
  {
   "cell_type": "code",
   "execution_count": 1,
   "metadata": {},
   "outputs": [],
   "source": [
    "import matplotlib.pyplot as plt\n",
    "import networkx as nx\n",
    "from random import random\n",
    "from scipy.spatial.distance import euclidean"
   ]
  },
  {
   "cell_type": "code",
   "execution_count": 1,
   "metadata": {},
   "outputs": [],
   "source": [
    "plt.plot([1,1,2],[1,2,3],'ro') \n",
    "plt.axis([0,3,0,4])\n",
    "plt.show()"
   ]
  },
  {
   "cell_type": "code",
   "execution_count": 1,
   "metadata": {},
   "outputs": [],
   "source": [
    "plt.plot([1,1,2],[1,2,3], color='blue') \n",
    "plt.axis([0,3,0,4])\n",
    "plt.show()"
   ]
  },
  {
   "cell_type": "code",
   "execution_count": 1,
   "metadata": {},
   "outputs": [],
   "source": [
    "def puntos_en_el_plano(n):\n",
    "    listax = []\n",
    "    listay = []\n",
    "    for i in range(n):\n",
    "        listax.append(random())\n",
    "        listay.append(random())\n",
    "    return listax, listay\n",
    "\n",
    "def dibujo_de_puntos(listax, listay):\n",
    "    plt.plot(listax, listay, 'ro')\n",
    "    plt.axis([-0.1, 1.1, -0.1, 1.1])\n",
    "    plt.gca().set_aspect('equal')\n",
    "    plt.show()"
   ]
  },
  {
   "cell_type": "code",
   "execution_count": 1,
   "metadata": {},
   "outputs": [],
   "source": [
    "coords_x, coords_y = puntos_en_el_plano(5)\n",
    "coords_x, coords_y"
   ]
  },
  {
   "cell_type": "code",
   "execution_count": 1,
   "metadata": {},
   "outputs": [],
   "source": [
    "dibujo_de_puntos(coords_x, coords_y)"
   ]
  },
  {
   "cell_type": "code",
   "execution_count": 1,
   "metadata": {},
   "outputs": [],
   "source": [
    "dibujo_de_puntos(*puntos_en_el_plano(50))"
   ]
  },
  {
   "cell_type": "code",
   "execution_count": 1,
   "metadata": {},
   "outputs": [],
   "source": [
    "a = (0, 0)\n",
    "b = (3, 4)\n",
    "euclidean(a, b)"
   ]
  },
  {
   "cell_type": "code",
   "execution_count": 1,
   "metadata": {},
   "outputs": [],
   "source": [
    "def grafica_rips(listax, listay, epsilon):\n",
    "    g = nx.Graph()\n",
    "    n = len(listax)\n",
    "    vertices = []\n",
    "    aristas = []\n",
    "    for i in range(n):\n",
    "        vertices.append((listax[i], listay[i]))\n",
    "    for i in range(n):\n",
    "        for j in range(i+1, n):\n",
    "            if euclidean(vertices[i], vertices[j]) < epsilon:\n",
    "                aristas.append((vertices[i], vertices[j]))\n",
    "    g.add_nodes_from(vertices)\n",
    "    g.add_edges_from(aristas)\n",
    "    return g"
   ]
  },
  {
   "cell_type": "code",
   "execution_count": 1,
   "metadata": {},
   "outputs": [],
   "source": [
    "g = grafica_rips(coords_x, coords_y, 0.5)\n",
    "nx.draw(g, with_labels=True)"
   ]
  },
  {
   "cell_type": "code",
   "execution_count": 1,
   "metadata": {},
   "outputs": [],
   "source": [
    "def dibujo_grafica_rips(listax, listay, epsilon):\n",
    "    plt.figure(1, figsize = (8, 8))\n",
    "    g = grafica_rips(listax, listay, epsilon)\n",
    "    for e in g.edges():\n",
    "        u=e[0]\n",
    "        v=e[1]\n",
    "        plt.plot([u[0], v[0]], [u[1], v[1]], color='blue')\n",
    "    plt.plot(listax, listay, 'ro')\n",
    "    plt.axis([-0.1, 1.1, -0.1, 1.1])\n",
    "    plt.gca().set_aspect('equal')\n",
    "    plt.show()"
   ]
  },
  {
   "cell_type": "code",
   "execution_count": 1,
   "metadata": {},
   "outputs": [],
   "source": [
    "dibujo_grafica_rips(coords_x, coords_y, 0.5)"
   ]
  },
  {
   "cell_type": "code",
   "execution_count": 1,
   "metadata": {},
   "outputs": [],
   "source": [
    "dibujo_grafica_rips(*puntos_en_el_plano(20), 0.2)"
   ]
  }
 ],
 "metadata": {
  "kernelspec": {
   "display_name": "Python 3",
   "language": "python",
   "name": "python3"
  },
  "language_info": {
   "codemirror_mode": {
    "name": "ipython",
    "version": 3
   },
   "file_extension": ".py",
   "mimetype": "text/x-python",
   "name": "python",
   "nbconvert_exporter": "python",
   "pygments_lexer": "ipython3",
   "version": "3.7.0"
  },
  "org": null
 },
 "nbformat": 4,
 "nbformat_minor": 1
}
